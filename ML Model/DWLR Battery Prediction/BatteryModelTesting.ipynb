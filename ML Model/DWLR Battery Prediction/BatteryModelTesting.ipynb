{
 "cells": [
  {
   "cell_type": "code",
   "execution_count": 1,
   "id": "ced7d3f0-cd09-4841-a186-a0788e0f36cf",
   "metadata": {},
   "outputs": [],
   "source": [
    "import pandas as pd\n",
    "import joblib\n",
    "from sklearn.preprocessing import StandardScaler"
   ]
  },
  {
   "cell_type": "code",
   "execution_count": 2,
   "id": "b728a5f9-02f2-4195-8c2e-4c7346adefce",
   "metadata": {},
   "outputs": [],
   "source": [
    "model = joblib.load(\"battery_prediction_model.pkl\")\n",
    "scaler = StandardScaler()"
   ]
  },
  {
   "cell_type": "code",
   "execution_count": 7,
   "id": "18f4336f-37b0-4ab3-96f4-be580e7cdc2c",
   "metadata": {},
   "outputs": [],
   "source": [
    "test_data = pd.DataFrame({\n",
    "    \"Current Battery Level (%)\": [60.51, 16.44, 97.02],\n",
    "    \"Days Already Run\": [250, 345, 30],\n",
    "    \"Temperature (°C)\": [18.74, 33.06, 44.57]\n",
    "})"
   ]
  },
  {
   "cell_type": "code",
   "execution_count": 8,
   "id": "e358c9c4-27b6-4d1a-9a1f-060ac4589f0d",
   "metadata": {},
   "outputs": [],
   "source": [
    "test_data_scaled = scaler.fit_transform(test_data)"
   ]
  },
  {
   "cell_type": "code",
   "execution_count": 9,
   "id": "6a997bc1-d925-40f4-a335-9f75dabf2d56",
   "metadata": {},
   "outputs": [],
   "source": [
    "predictions = model.predict(test_data_scaled)"
   ]
  },
  {
   "cell_type": "code",
   "execution_count": 10,
   "id": "f71e1295-fbf2-41ac-963c-27d8a2164448",
   "metadata": {},
   "outputs": [
    {
     "name": "stdout",
     "output_type": "stream",
     "text": [
      "Predicted Days Remaining: [277.2421 355.1996 363.0651]\n"
     ]
    }
   ],
   "source": [
    "print(\"Predicted Days Remaining:\", predictions)\n"
   ]
  },
  {
   "cell_type": "code",
   "execution_count": null,
   "id": "dedec73c-3487-4cf9-838e-bc3681e099b0",
   "metadata": {},
   "outputs": [],
   "source": []
  }
 ],
 "metadata": {
  "kernelspec": {
   "display_name": "Python 3 (ipykernel)",
   "language": "python",
   "name": "python3"
  },
  "language_info": {
   "codemirror_mode": {
    "name": "ipython",
    "version": 3
   },
   "file_extension": ".py",
   "mimetype": "text/x-python",
   "name": "python",
   "nbconvert_exporter": "python",
   "pygments_lexer": "ipython3",
   "version": "3.12.5"
  }
 },
 "nbformat": 4,
 "nbformat_minor": 5
}
